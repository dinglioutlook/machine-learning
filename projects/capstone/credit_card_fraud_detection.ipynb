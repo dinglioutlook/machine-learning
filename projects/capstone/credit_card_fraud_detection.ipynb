{
 "cells": [
  {
   "cell_type": "markdown",
   "metadata": {
    "deletable": true,
    "editable": true
   },
   "source": [
    "# Notebook start"
   ]
  },
  {
   "cell_type": "markdown",
   "metadata": {
    "deletable": true,
    "editable": true
   },
   "source": [
    "Load data and explore them"
   ]
  },
  {
   "cell_type": "code",
   "execution_count": 1,
   "metadata": {
    "collapsed": false,
    "deletable": true,
    "editable": true
   },
   "outputs": [
    {
     "data": {
      "text/html": [
       "<div>\n",
       "<table border=\"1\" class=\"dataframe\">\n",
       "  <thead>\n",
       "    <tr style=\"text-align: right;\">\n",
       "      <th></th>\n",
       "      <th>Time</th>\n",
       "      <th>V1</th>\n",
       "      <th>V2</th>\n",
       "      <th>V3</th>\n",
       "      <th>V4</th>\n",
       "      <th>V5</th>\n",
       "      <th>V6</th>\n",
       "      <th>V7</th>\n",
       "      <th>V8</th>\n",
       "      <th>V9</th>\n",
       "      <th>...</th>\n",
       "      <th>V21</th>\n",
       "      <th>V22</th>\n",
       "      <th>V23</th>\n",
       "      <th>V24</th>\n",
       "      <th>V25</th>\n",
       "      <th>V26</th>\n",
       "      <th>V27</th>\n",
       "      <th>V28</th>\n",
       "      <th>Amount</th>\n",
       "      <th>Class</th>\n",
       "    </tr>\n",
       "  </thead>\n",
       "  <tbody>\n",
       "    <tr>\n",
       "      <th>0</th>\n",
       "      <td>0.0</td>\n",
       "      <td>-1.359807</td>\n",
       "      <td>-0.072781</td>\n",
       "      <td>2.536347</td>\n",
       "      <td>1.378155</td>\n",
       "      <td>-0.338321</td>\n",
       "      <td>0.462388</td>\n",
       "      <td>0.239599</td>\n",
       "      <td>0.098698</td>\n",
       "      <td>0.363787</td>\n",
       "      <td>...</td>\n",
       "      <td>-0.018307</td>\n",
       "      <td>0.277838</td>\n",
       "      <td>-0.110474</td>\n",
       "      <td>0.066928</td>\n",
       "      <td>0.128539</td>\n",
       "      <td>-0.189115</td>\n",
       "      <td>0.133558</td>\n",
       "      <td>-0.021053</td>\n",
       "      <td>149.62</td>\n",
       "      <td>0</td>\n",
       "    </tr>\n",
       "  </tbody>\n",
       "</table>\n",
       "<p>1 rows × 31 columns</p>\n",
       "</div>"
      ],
      "text/plain": [
       "   Time        V1        V2        V3        V4        V5        V6        V7  \\\n",
       "0   0.0 -1.359807 -0.072781  2.536347  1.378155 -0.338321  0.462388  0.239599   \n",
       "\n",
       "         V8        V9  ...         V21       V22       V23       V24  \\\n",
       "0  0.098698  0.363787  ...   -0.018307  0.277838 -0.110474  0.066928   \n",
       "\n",
       "        V25       V26       V27       V28  Amount  Class  \n",
       "0  0.128539 -0.189115  0.133558 -0.021053  149.62      0  \n",
       "\n",
       "[1 rows x 31 columns]"
      ]
     },
     "metadata": {},
     "output_type": "display_data"
    }
   ],
   "source": [
    "import numpy as np\n",
    "import pandas as pd\n",
    "from time import time\n",
    "from IPython.display import display \n",
    "\n",
    "# Pretty display for notebooks\n",
    "%matplotlib inline\n",
    "\n",
    "# Load the Census dataset\n",
    "data = pd.read_csv(\"data/creditcard.csv\")\n",
    "\n",
    "# Success - Display the first record\n",
    "display(data.head(n=1))"
   ]
  },
  {
   "cell_type": "markdown",
   "metadata": {},
   "source": [
    "split data to X and Y"
   ]
  },
  {
   "cell_type": "code",
   "execution_count": 7,
   "metadata": {
    "collapsed": false
   },
   "outputs": [
    {
     "name": "stdout",
     "output_type": "stream",
     "text": [
      "284807\n"
     ]
    }
   ],
   "source": [
    "features = data.drop('Class', axis = 1)\n",
    "classes = data['Class']\n",
    "\n",
    "print(len(features))"
   ]
  },
  {
   "cell_type": "markdown",
   "metadata": {
    "collapsed": true,
    "deletable": true,
    "editable": true
   },
   "source": [
    "Split 10% data for models final validation"
   ]
  },
  {
   "cell_type": "code",
   "execution_count": 8,
   "metadata": {
    "collapsed": false
   },
   "outputs": [],
   "source": [
    "from sklearn.cross_validation import train_test_split\n",
    "X_, X_validation, y_, y_validation = train_test_split(features, classes, random_state = 0, test_size = 0.1)\n"
   ]
  },
  {
   "cell_type": "markdown",
   "metadata": {},
   "source": [
    "Split into train and test set"
   ]
  },
  {
   "cell_type": "code",
   "execution_count": 9,
   "metadata": {
    "collapsed": true
   },
   "outputs": [],
   "source": [
    "X_train, X_test, y_train, y_test = train_test_split(X_, y_, random_state = 0, test_size = 0.2)"
   ]
  },
  {
   "cell_type": "markdown",
   "metadata": {},
   "source": [
    "Explore those datasets"
   ]
  },
  {
   "cell_type": "code",
   "execution_count": 13,
   "metadata": {
    "collapsed": false
   },
   "outputs": [
    {
     "data": {
      "text/html": [
       "<div>\n",
       "<table border=\"1\" class=\"dataframe\">\n",
       "  <thead>\n",
       "    <tr style=\"text-align: right;\">\n",
       "      <th></th>\n",
       "      <th>Time</th>\n",
       "      <th>V1</th>\n",
       "      <th>V2</th>\n",
       "      <th>V3</th>\n",
       "      <th>V4</th>\n",
       "      <th>V5</th>\n",
       "      <th>V6</th>\n",
       "      <th>V7</th>\n",
       "      <th>V8</th>\n",
       "      <th>V9</th>\n",
       "      <th>...</th>\n",
       "      <th>V20</th>\n",
       "      <th>V21</th>\n",
       "      <th>V22</th>\n",
       "      <th>V23</th>\n",
       "      <th>V24</th>\n",
       "      <th>V25</th>\n",
       "      <th>V26</th>\n",
       "      <th>V27</th>\n",
       "      <th>V28</th>\n",
       "      <th>Amount</th>\n",
       "    </tr>\n",
       "  </thead>\n",
       "  <tbody>\n",
       "    <tr>\n",
       "      <th>count</th>\n",
       "      <td>205060.000000</td>\n",
       "      <td>205060.000000</td>\n",
       "      <td>205060.000000</td>\n",
       "      <td>205060.000000</td>\n",
       "      <td>205060.000000</td>\n",
       "      <td>205060.000000</td>\n",
       "      <td>205060.000000</td>\n",
       "      <td>205060.000000</td>\n",
       "      <td>205060.000000</td>\n",
       "      <td>205060.000000</td>\n",
       "      <td>...</td>\n",
       "      <td>205060.000000</td>\n",
       "      <td>205060.000000</td>\n",
       "      <td>205060.000000</td>\n",
       "      <td>205060.000000</td>\n",
       "      <td>205060.000000</td>\n",
       "      <td>205060.000000</td>\n",
       "      <td>205060.000000</td>\n",
       "      <td>205060.000000</td>\n",
       "      <td>205060.000000</td>\n",
       "      <td>205060.000000</td>\n",
       "    </tr>\n",
       "    <tr>\n",
       "      <th>mean</th>\n",
       "      <td>94878.970316</td>\n",
       "      <td>0.001828</td>\n",
       "      <td>-0.000154</td>\n",
       "      <td>-0.002667</td>\n",
       "      <td>-0.001795</td>\n",
       "      <td>-0.002347</td>\n",
       "      <td>-0.001204</td>\n",
       "      <td>0.000847</td>\n",
       "      <td>-0.000961</td>\n",
       "      <td>0.001550</td>\n",
       "      <td>...</td>\n",
       "      <td>0.000538</td>\n",
       "      <td>0.001183</td>\n",
       "      <td>0.000995</td>\n",
       "      <td>0.000881</td>\n",
       "      <td>0.000755</td>\n",
       "      <td>0.000967</td>\n",
       "      <td>0.000288</td>\n",
       "      <td>-0.001243</td>\n",
       "      <td>0.000013</td>\n",
       "      <td>88.632999</td>\n",
       "    </tr>\n",
       "    <tr>\n",
       "      <th>std</th>\n",
       "      <td>47484.749691</td>\n",
       "      <td>1.951704</td>\n",
       "      <td>1.638867</td>\n",
       "      <td>1.513389</td>\n",
       "      <td>1.414892</td>\n",
       "      <td>1.359229</td>\n",
       "      <td>1.324046</td>\n",
       "      <td>1.223135</td>\n",
       "      <td>1.212230</td>\n",
       "      <td>1.099703</td>\n",
       "      <td>...</td>\n",
       "      <td>0.762011</td>\n",
       "      <td>0.741670</td>\n",
       "      <td>0.726726</td>\n",
       "      <td>0.631239</td>\n",
       "      <td>0.604264</td>\n",
       "      <td>0.522141</td>\n",
       "      <td>0.483015</td>\n",
       "      <td>0.403525</td>\n",
       "      <td>0.324782</td>\n",
       "      <td>246.348397</td>\n",
       "    </tr>\n",
       "    <tr>\n",
       "      <th>min</th>\n",
       "      <td>0.000000</td>\n",
       "      <td>-46.855047</td>\n",
       "      <td>-63.344698</td>\n",
       "      <td>-33.680984</td>\n",
       "      <td>-5.683171</td>\n",
       "      <td>-42.147898</td>\n",
       "      <td>-23.496714</td>\n",
       "      <td>-43.557242</td>\n",
       "      <td>-73.216718</td>\n",
       "      <td>-13.434066</td>\n",
       "      <td>...</td>\n",
       "      <td>-25.222345</td>\n",
       "      <td>-34.830382</td>\n",
       "      <td>-10.933144</td>\n",
       "      <td>-44.807735</td>\n",
       "      <td>-2.822384</td>\n",
       "      <td>-10.295397</td>\n",
       "      <td>-2.604551</td>\n",
       "      <td>-22.565679</td>\n",
       "      <td>-11.710896</td>\n",
       "      <td>0.000000</td>\n",
       "    </tr>\n",
       "    <tr>\n",
       "      <th>25%</th>\n",
       "      <td>54265.000000</td>\n",
       "      <td>-0.920830</td>\n",
       "      <td>-0.599198</td>\n",
       "      <td>-0.894137</td>\n",
       "      <td>-0.849727</td>\n",
       "      <td>-0.691947</td>\n",
       "      <td>-0.770163</td>\n",
       "      <td>-0.552127</td>\n",
       "      <td>-0.209065</td>\n",
       "      <td>-0.643766</td>\n",
       "      <td>...</td>\n",
       "      <td>-0.211934</td>\n",
       "      <td>-0.228442</td>\n",
       "      <td>-0.542425</td>\n",
       "      <td>-0.161812</td>\n",
       "      <td>-0.353973</td>\n",
       "      <td>-0.317214</td>\n",
       "      <td>-0.327599</td>\n",
       "      <td>-0.070817</td>\n",
       "      <td>-0.052954</td>\n",
       "      <td>5.740000</td>\n",
       "    </tr>\n",
       "    <tr>\n",
       "      <th>50%</th>\n",
       "      <td>84853.000000</td>\n",
       "      <td>0.020389</td>\n",
       "      <td>0.061276</td>\n",
       "      <td>0.175047</td>\n",
       "      <td>-0.023156</td>\n",
       "      <td>-0.054771</td>\n",
       "      <td>-0.273978</td>\n",
       "      <td>0.040934</td>\n",
       "      <td>0.021784</td>\n",
       "      <td>-0.049428</td>\n",
       "      <td>...</td>\n",
       "      <td>-0.062624</td>\n",
       "      <td>-0.028656</td>\n",
       "      <td>0.008389</td>\n",
       "      <td>-0.011161</td>\n",
       "      <td>0.041108</td>\n",
       "      <td>0.018073</td>\n",
       "      <td>-0.052496</td>\n",
       "      <td>0.000981</td>\n",
       "      <td>0.011142</td>\n",
       "      <td>22.000000</td>\n",
       "    </tr>\n",
       "    <tr>\n",
       "      <th>75%</th>\n",
       "      <td>139344.000000</td>\n",
       "      <td>1.317317</td>\n",
       "      <td>0.800938</td>\n",
       "      <td>1.025699</td>\n",
       "      <td>0.744342</td>\n",
       "      <td>0.610991</td>\n",
       "      <td>0.397373</td>\n",
       "      <td>0.571119</td>\n",
       "      <td>0.326880</td>\n",
       "      <td>0.598498</td>\n",
       "      <td>...</td>\n",
       "      <td>0.132686</td>\n",
       "      <td>0.187317</td>\n",
       "      <td>0.529249</td>\n",
       "      <td>0.148152</td>\n",
       "      <td>0.439996</td>\n",
       "      <td>0.351575</td>\n",
       "      <td>0.241466</td>\n",
       "      <td>0.090263</td>\n",
       "      <td>0.078113</td>\n",
       "      <td>77.500000</td>\n",
       "    </tr>\n",
       "    <tr>\n",
       "      <th>max</th>\n",
       "      <td>172792.000000</td>\n",
       "      <td>2.439207</td>\n",
       "      <td>22.057729</td>\n",
       "      <td>9.382558</td>\n",
       "      <td>16.875344</td>\n",
       "      <td>34.099309</td>\n",
       "      <td>23.917837</td>\n",
       "      <td>44.054461</td>\n",
       "      <td>20.007208</td>\n",
       "      <td>15.594995</td>\n",
       "      <td>...</td>\n",
       "      <td>39.420904</td>\n",
       "      <td>27.202839</td>\n",
       "      <td>10.503090</td>\n",
       "      <td>22.528412</td>\n",
       "      <td>4.022866</td>\n",
       "      <td>7.519589</td>\n",
       "      <td>3.517346</td>\n",
       "      <td>12.152401</td>\n",
       "      <td>22.620072</td>\n",
       "      <td>19656.530000</td>\n",
       "    </tr>\n",
       "  </tbody>\n",
       "</table>\n",
       "<p>8 rows × 30 columns</p>\n",
       "</div>"
      ],
      "text/plain": [
       "                Time             V1             V2             V3  \\\n",
       "count  205060.000000  205060.000000  205060.000000  205060.000000   \n",
       "mean    94878.970316       0.001828      -0.000154      -0.002667   \n",
       "std     47484.749691       1.951704       1.638867       1.513389   \n",
       "min         0.000000     -46.855047     -63.344698     -33.680984   \n",
       "25%     54265.000000      -0.920830      -0.599198      -0.894137   \n",
       "50%     84853.000000       0.020389       0.061276       0.175047   \n",
       "75%    139344.000000       1.317317       0.800938       1.025699   \n",
       "max    172792.000000       2.439207      22.057729       9.382558   \n",
       "\n",
       "                  V4             V5             V6             V7  \\\n",
       "count  205060.000000  205060.000000  205060.000000  205060.000000   \n",
       "mean       -0.001795      -0.002347      -0.001204       0.000847   \n",
       "std         1.414892       1.359229       1.324046       1.223135   \n",
       "min        -5.683171     -42.147898     -23.496714     -43.557242   \n",
       "25%        -0.849727      -0.691947      -0.770163      -0.552127   \n",
       "50%        -0.023156      -0.054771      -0.273978       0.040934   \n",
       "75%         0.744342       0.610991       0.397373       0.571119   \n",
       "max        16.875344      34.099309      23.917837      44.054461   \n",
       "\n",
       "                  V8             V9      ...                  V20  \\\n",
       "count  205060.000000  205060.000000      ...        205060.000000   \n",
       "mean       -0.000961       0.001550      ...             0.000538   \n",
       "std         1.212230       1.099703      ...             0.762011   \n",
       "min       -73.216718     -13.434066      ...           -25.222345   \n",
       "25%        -0.209065      -0.643766      ...            -0.211934   \n",
       "50%         0.021784      -0.049428      ...            -0.062624   \n",
       "75%         0.326880       0.598498      ...             0.132686   \n",
       "max        20.007208      15.594995      ...            39.420904   \n",
       "\n",
       "                 V21            V22            V23            V24  \\\n",
       "count  205060.000000  205060.000000  205060.000000  205060.000000   \n",
       "mean        0.001183       0.000995       0.000881       0.000755   \n",
       "std         0.741670       0.726726       0.631239       0.604264   \n",
       "min       -34.830382     -10.933144     -44.807735      -2.822384   \n",
       "25%        -0.228442      -0.542425      -0.161812      -0.353973   \n",
       "50%        -0.028656       0.008389      -0.011161       0.041108   \n",
       "75%         0.187317       0.529249       0.148152       0.439996   \n",
       "max        27.202839      10.503090      22.528412       4.022866   \n",
       "\n",
       "                 V25            V26            V27            V28  \\\n",
       "count  205060.000000  205060.000000  205060.000000  205060.000000   \n",
       "mean        0.000967       0.000288      -0.001243       0.000013   \n",
       "std         0.522141       0.483015       0.403525       0.324782   \n",
       "min       -10.295397      -2.604551     -22.565679     -11.710896   \n",
       "25%        -0.317214      -0.327599      -0.070817      -0.052954   \n",
       "50%         0.018073      -0.052496       0.000981       0.011142   \n",
       "75%         0.351575       0.241466       0.090263       0.078113   \n",
       "max         7.519589       3.517346      12.152401      22.620072   \n",
       "\n",
       "              Amount  \n",
       "count  205060.000000  \n",
       "mean       88.632999  \n",
       "std       246.348397  \n",
       "min         0.000000  \n",
       "25%         5.740000  \n",
       "50%        22.000000  \n",
       "75%        77.500000  \n",
       "max     19656.530000  \n",
       "\n",
       "[8 rows x 30 columns]"
      ]
     },
     "metadata": {},
     "output_type": "display_data"
    }
   ],
   "source": [
    "display(X_train.describe())"
   ]
  },
  {
   "cell_type": "code",
   "execution_count": 28,
   "metadata": {
    "collapsed": false
   },
   "outputs": [
    {
     "data": {
      "text/plain": [
       "array([[<matplotlib.axes._subplots.AxesSubplot object at 0x147e2a1d0>,\n",
       "        <matplotlib.axes._subplots.AxesSubplot object at 0x147fce4a8>,\n",
       "        <matplotlib.axes._subplots.AxesSubplot object at 0x13e92f4a8>,\n",
       "        <matplotlib.axes._subplots.AxesSubplot object at 0x13ec9d748>,\n",
       "        <matplotlib.axes._subplots.AxesSubplot object at 0x13eddcac8>,\n",
       "        <matplotlib.axes._subplots.AxesSubplot object at 0x13eddcb00>],\n",
       "       [<matplotlib.axes._subplots.AxesSubplot object at 0x13e452320>,\n",
       "        <matplotlib.axes._subplots.AxesSubplot object at 0x140606eb8>,\n",
       "        <matplotlib.axes._subplots.AxesSubplot object at 0x13eedc128>,\n",
       "        <matplotlib.axes._subplots.AxesSubplot object at 0x13ea66550>,\n",
       "        <matplotlib.axes._subplots.AxesSubplot object at 0x11b8d4240>,\n",
       "        <matplotlib.axes._subplots.AxesSubplot object at 0x13ea106d8>],\n",
       "       [<matplotlib.axes._subplots.AxesSubplot object at 0x13ec09ba8>,\n",
       "        <matplotlib.axes._subplots.AxesSubplot object at 0x13ec23ba8>,\n",
       "        <matplotlib.axes._subplots.AxesSubplot object at 0x13e96f6d8>,\n",
       "        <matplotlib.axes._subplots.AxesSubplot object at 0x13dd269e8>,\n",
       "        <matplotlib.axes._subplots.AxesSubplot object at 0x13dff5f28>,\n",
       "        <matplotlib.axes._subplots.AxesSubplot object at 0x11cd39c18>],\n",
       "       [<matplotlib.axes._subplots.AxesSubplot object at 0x13dbd82e8>,\n",
       "        <matplotlib.axes._subplots.AxesSubplot object at 0x13dc2d7f0>,\n",
       "        <matplotlib.axes._subplots.AxesSubplot object at 0x13dcceeb8>,\n",
       "        <matplotlib.axes._subplots.AxesSubplot object at 0x13df11e80>,\n",
       "        <matplotlib.axes._subplots.AxesSubplot object at 0x13df94550>,\n",
       "        <matplotlib.axes._subplots.AxesSubplot object at 0x11bc5de80>],\n",
       "       [<matplotlib.axes._subplots.AxesSubplot object at 0x13e1f4550>,\n",
       "        <matplotlib.axes._subplots.AxesSubplot object at 0x13e107588>,\n",
       "        <matplotlib.axes._subplots.AxesSubplot object at 0x13e506390>,\n",
       "        <matplotlib.axes._subplots.AxesSubplot object at 0x11bc9a4e0>,\n",
       "        <matplotlib.axes._subplots.AxesSubplot object at 0x13eabd6d8>,\n",
       "        <matplotlib.axes._subplots.AxesSubplot object at 0x13e9e4128>]], dtype=object)"
      ]
     },
     "execution_count": 28,
     "metadata": {},
     "output_type": "execute_result"
    },
    {
     "data": {
      "image/png": "[encoded data removed]",
      "text/plain": [
       "<matplotlib.figure.Figure at 0x13ec6f0b8>"
      ]
     },
     "metadata": {},
     "output_type": "display_data"
    }
   ],
   "source": [
    "# Pretty display for notebooks\n",
    "%matplotlib inline\n",
    "X_train.plot(subplots=True, kind='kde', layout = (5,6))"
   ]
  },
  {
   "cell_type": "code",
   "execution_count": null,
   "metadata": {
    "collapsed": true
   },
   "outputs": [],
   "source": []
  }
 ],
 "metadata": {
  "kernelspec": {
   "display_name": "Python 3",
   "language": "python",
   "name": "python3"
  },
  "language_info": {
   "codemirror_mode": {
    "name": "ipython",
    "version": 3
   },
   "file_extension": ".py",
   "mimetype": "text/x-python",
   "name": "python",
   "nbconvert_exporter": "python",
   "pygments_lexer": "ipython3",
   "version": "3.6.0"
  }
 },
 "nbformat": 4,
 "nbformat_minor": 2
}
